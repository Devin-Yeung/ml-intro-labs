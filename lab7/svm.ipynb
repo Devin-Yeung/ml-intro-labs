{
 "cells": [
  {
   "cell_type": "code",
   "execution_count": null,
   "id": "initial_id",
   "metadata": {},
   "outputs": [],
   "source": [
    "import pandas as pd"
   ]
  },
  {
   "cell_type": "code",
   "execution_count": null,
   "id": "a055a1805fc4d932",
   "metadata": {},
   "outputs": [],
   "source": [
    "df = pd.read_csv(\"svm_dataset.csv\")"
   ]
  },
  {
   "cell_type": "code",
   "execution_count": null,
   "id": "756e725e036e4d64",
   "metadata": {},
   "outputs": [],
   "source": [
    "X = df[['X1', 'X2']]\n",
    "y = df['y']"
   ]
  },
  {
   "cell_type": "code",
   "execution_count": null,
   "id": "3e0499815a9b4aaf",
   "metadata": {},
   "outputs": [],
   "source": [
    "from sklearn import svm"
   ]
  },
  {
   "cell_type": "code",
   "execution_count": null,
   "id": "633e6e8ad501f8b",
   "metadata": {},
   "outputs": [],
   "source": [
    "model = svm.SVC(kernel='linear')"
   ]
  },
  {
   "cell_type": "code",
   "execution_count": null,
   "id": "482153420caea00f",
   "metadata": {},
   "outputs": [],
   "source": [
    "model.fit(X, y)"
   ]
  },
  {
   "cell_type": "code",
   "execution_count": null,
   "id": "62dc9c55769a028b",
   "metadata": {},
   "outputs": [],
   "source": [
    "import matplotlib.pyplot as plt\n",
    "import numpy as np"
   ]
  },
  {
   "cell_type": "code",
   "execution_count": null,
   "id": "f96ce2e93993574f",
   "metadata": {},
   "outputs": [],
   "source": [
    "plt.scatter(X['X1'], X['X2'], c=y, s=30, cmap=plt.cm.prism)\n",
    "# Creates the axis bounds for the grid\n",
    "axis = plt.gca()\n",
    "x_limit = axis.get_xlim()\n",
    "y_limit = axis.get_ylim()\n",
    "\n",
    "x_range = np.linspace(x_limit[0], x_limit[1], 50)\n",
    "y_range = np.linspace(y_limit[0], y_limit[1], 50)\n",
    "\n",
    "x_decision, y_decision = np.meshgrid(x_range, y_range)\n",
    "xy = np.c_[x_decision.ravel(), y_decision.ravel()]\n",
    "\n",
    "decision_line = model.decision_function(xy).reshape(y_decision.shape)\n",
    "\n",
    "axis.contour(x_decision, y_decision,  decision_line, colors = 'k',  levels=[0],\n",
    "             linestyles=['-'])\n",
    "# Shows the support vectors that determine the decision line\n",
    "axis.scatter(model.support_vectors_[:, 0], model.support_vectors_[:, 1], s=100,\n",
    "             linewidth=1, facecolors='none', edgecolors='k')\n",
    "\n",
    "# Shows the graph\n",
    "plt.show()"
   ]
  }
 ],
 "metadata": {
  "language_info": {
   "name": "python"
  }
 },
 "nbformat": 4,
 "nbformat_minor": 5
}
