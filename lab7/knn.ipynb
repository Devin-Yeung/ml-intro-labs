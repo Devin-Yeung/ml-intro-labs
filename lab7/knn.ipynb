{
 "cells": [
  {
   "cell_type": "code",
   "execution_count": null,
   "id": "initial_id",
   "metadata": {},
   "outputs": [],
   "source": [
    "import pandas as pd\n",
    "from sklearn.model_selection import train_test_split\n",
    "from sklearn.neighbors import KNeighborsClassifier"
   ]
  },
  {
   "cell_type": "code",
   "execution_count": null,
   "id": "efa29468b6febefb",
   "metadata": {},
   "outputs": [],
   "source": [
    "df = pd.read_csv(\"consumer_record.csv\")"
   ]
  },
  {
   "cell_type": "code",
   "execution_count": null,
   "id": "d81636488de68511",
   "metadata": {},
   "outputs": [],
   "source": [
    "df"
   ]
  },
  {
   "cell_type": "code",
   "execution_count": null,
   "id": "c2df14dee4f92194",
   "metadata": {},
   "outputs": [],
   "source": [
    "x = df[['Occupation', 'Purchase']]\n",
    "y = df['Gender']\n",
    "x_train, x_test, y_train, y_test = train_test_split(x, y, random_state=0)"
   ]
  },
  {
   "cell_type": "markdown",
   "id": "c1ce4a5becf894d6",
   "metadata": {
    "collapsed": false
   },
   "source": [
    "# Modeling"
   ]
  },
  {
   "cell_type": "code",
   "execution_count": null,
   "id": "1bd9cf711910179b",
   "metadata": {},
   "outputs": [],
   "source": [
    "n_neighbors = []\n",
    "test_accuracy = []\n",
    "train_accuracy = []\n",
    "\n",
    "for neighbors in range(1, 21):\n",
    "    model = KNeighborsClassifier(n_neighbors=neighbors)\n",
    "    model.fit(x_train, y_train)\n",
    "    model.predict(x_test)\n",
    "    \n",
    "    test_acc = model.score(x_test, y_test)\n",
    "    train_acc = model.score(x_train, y_train)\n",
    "    n_neighbors.append(neighbors)\n",
    "    test_accuracy.append(test_acc)\n",
    "    train_accuracy.append(train_acc)\n",
    "    print(f\"train acc = {train_acc} test acc = {test_acc} when n = {neighbors}\")\n"
   ]
  },
  {
   "cell_type": "code",
   "execution_count": null,
   "id": "29011cd0fd196d93",
   "metadata": {},
   "outputs": [],
   "source": [
    "import matplotlib.pyplot as plt\n",
    "\n",
    "# Create the lines plot\n",
    "plt.plot(n_neighbors, test_accuracy, label='Testing Accuracy')\n",
    "plt.plot(n_neighbors, train_accuracy, label='Training Accuracy')\n",
    "\n",
    "# Customize the plot\n",
    "plt.title('Value VS. Accuracy')\n",
    "plt.xlabel('Number of Neighbors')\n",
    "plt.ylabel('Accuracy')\n",
    "plt.legend()\n",
    "plt.xticks(range(min(n_neighbors), max(n_neighbors) + 1))\n",
    "\n",
    "# Display the plot\n",
    "plt.grid(True)\n",
    "plt.show()"
   ]
  }
 ],
 "metadata": {
  "language_info": {
   "name": "python"
  }
 },
 "nbformat": 4,
 "nbformat_minor": 5
}
