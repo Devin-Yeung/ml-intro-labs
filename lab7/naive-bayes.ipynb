{
 "cells": [
  {
   "cell_type": "code",
   "execution_count": null,
   "id": "initial_id",
   "metadata": {},
   "outputs": [],
   "source": [
    "import pandas as pd"
   ]
  },
  {
   "cell_type": "code",
   "execution_count": null,
   "id": "b560182979b95c6c",
   "metadata": {},
   "outputs": [],
   "source": [
    "df = pd.read_csv(\"basketball.csv\", dtype=str)"
   ]
  },
  {
   "cell_type": "code",
   "execution_count": null,
   "id": "1bd0e9f44b26433b",
   "metadata": {},
   "outputs": [],
   "source": [
    "df"
   ]
  },
  {
   "cell_type": "code",
   "execution_count": null,
   "id": "ed05829ad6140f2f",
   "metadata": {},
   "outputs": [],
   "source": [
    "X = df[['outlook', 'temp', 'humidity', 'windy']]\n",
    "y = df['play']"
   ]
  },
  {
   "cell_type": "markdown",
   "id": "2a14b0f62f940e47",
   "metadata": {
    "collapsed": false
   },
   "source": [
    "# Binarize the data"
   ]
  },
  {
   "cell_type": "code",
   "execution_count": null,
   "id": "f85a5c9354a4f26c",
   "metadata": {},
   "outputs": [],
   "source": [
    "from sklearn.preprocessing import OneHotEncoder, LabelBinarizer\n",
    "import numpy as np"
   ]
  },
  {
   "cell_type": "code",
   "execution_count": null,
   "id": "a2850511d659dca1",
   "metadata": {},
   "outputs": [],
   "source": [
    "feature_encoder = OneHotEncoder()"
   ]
  },
  {
   "cell_type": "code",
   "execution_count": null,
   "id": "a7156818b66bd788",
   "metadata": {},
   "outputs": [],
   "source": [
    "X_trans = feature_encoder.fit_transform(X).toarray()"
   ]
  },
  {
   "cell_type": "code",
   "execution_count": null,
   "id": "81ab4a24ef7360f0",
   "metadata": {},
   "outputs": [],
   "source": [
    "target_encoder = LabelBinarizer()"
   ]
  },
  {
   "cell_type": "code",
   "execution_count": null,
   "id": "b4056f63a49d13ad",
   "metadata": {},
   "outputs": [],
   "source": [
    "y_trans = target_encoder.fit_transform(np.reshape(y, (-1, 1))).ravel()"
   ]
  },
  {
   "cell_type": "markdown",
   "id": "1290ef05c6a930d5",
   "metadata": {
    "collapsed": false
   },
   "source": [
    "# Training"
   ]
  },
  {
   "cell_type": "code",
   "execution_count": null,
   "id": "bbf8a99c8e834ed7",
   "metadata": {},
   "outputs": [],
   "source": [
    "from sklearn.naive_bayes import BernoulliNB"
   ]
  },
  {
   "cell_type": "code",
   "execution_count": null,
   "id": "386bcec865cf7c5b",
   "metadata": {},
   "outputs": [],
   "source": [
    "model = BernoulliNB()"
   ]
  },
  {
   "cell_type": "code",
   "execution_count": null,
   "id": "ab6e39d53392e7ac",
   "metadata": {},
   "outputs": [],
   "source": [
    "model.fit(X_trans, y_trans)"
   ]
  },
  {
   "cell_type": "code",
   "execution_count": null,
   "id": "46bf7e914237af4a",
   "metadata": {},
   "outputs": [],
   "source": [
    "testcase = ['overcast', 'cool', 'normal', 'FALSE']"
   ]
  },
  {
   "cell_type": "code",
   "execution_count": null,
   "id": "40f66cc94ee8be94",
   "metadata": {},
   "outputs": [],
   "source": [
    "X_test = pd.DataFrame({'outlook': [testcase[0]], 'temp': [testcase[1]], 'humidity': [testcase[2]], 'windy': [testcase[3].lower()]})"
   ]
  },
  {
   "cell_type": "code",
   "execution_count": null,
   "id": "4e63e00b25219340",
   "metadata": {},
   "outputs": [],
   "source": [
    "X_test = feature_encoder.transform(X_test).toarray()"
   ]
  },
  {
   "cell_type": "code",
   "execution_count": null,
   "id": "f9277bcf01daf44e",
   "metadata": {},
   "outputs": [],
   "source": [
    "X_test"
   ]
  },
  {
   "cell_type": "code",
   "execution_count": null,
   "id": "4776a41bc539d194",
   "metadata": {},
   "outputs": [],
   "source": [
    "y_pred = model.predict(X_test)"
   ]
  },
  {
   "cell_type": "code",
   "execution_count": null,
   "id": "d2b055ea7bdc6779",
   "metadata": {},
   "outputs": [],
   "source": [
    "target_encoder.inverse_transform(y_pred)"
   ]
  }
 ],
 "metadata": {
  "language_info": {
   "name": "python"
  }
 },
 "nbformat": 4,
 "nbformat_minor": 5
}
