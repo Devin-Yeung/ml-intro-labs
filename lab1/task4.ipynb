{
 "cells": [
  {
   "cell_type": "code",
   "execution_count": 31,
   "metadata": {},
   "outputs": [],
   "source": [
    "# You should return your result.\n",
    "import pandas as pd\n",
    "def setDataFrameZeros(df):\n",
    "    positions = []\n",
    "    for r, row in df.iterrows():\n",
    "        for c, item in enumerate(row):\n",
    "            if item == 0:\n",
    "                positions.append((r, c))\n",
    "    rows, cols = df.shape\n",
    "    for r, c in positions:\n",
    "        for i in range(cols):\n",
    "            df.iloc[r, i] = 0\n",
    "        for i in range(rows):\n",
    "            df.iloc[i, c] = 0\n",
    "\n",
    "    return df"
   ]
  },
  {
   "cell_type": "code",
   "execution_count": 32,
   "metadata": {},
   "outputs": [],
   "source": [
    "# Test cases\n",
    "df1 = pd.DataFrame({'c1': [1, 4, 7],\n",
    "                    'c2': [2, 0, 8],\n",
    "                    'c3': [3, 6, 9]})\n",
    "df2 = pd.DataFrame({'c1': [1, 0, 7],\n",
    "                    'c2': [0, 0, 0],\n",
    "                    'c3': [3, 0, 9]})\n",
    "assert (df2.equals(setDataFrameZeros(df1)))\n",
    "df1 = pd.DataFrame({'c1': [0, 3, 1],\n",
    "                    'c2': [1, 4, 3],\n",
    "                    'c3': [2, 5, 1],\n",
    "                    'c4': [0, 2, 5]})\n",
    "df2 = pd.DataFrame({'c1': [0, 0, 0],\n",
    "                    'c2': [0, 4, 3],\n",
    "                    'c3': [0, 5, 1],\n",
    "                    'c4': [0, 0, 0]})\n",
    "assert (df2.equals(setDataFrameZeros(df1)))"
   ]
  }
 ],
 "metadata": {
  "language_info": {
   "name": "python"
  }
 },
 "nbformat": 4,
 "nbformat_minor": 0
}
