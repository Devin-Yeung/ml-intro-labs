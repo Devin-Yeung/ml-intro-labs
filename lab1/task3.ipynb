{
 "cells": [
  {
   "cell_type": "code",
   "execution_count": null,
   "metadata": {},
   "outputs": [],
   "source": [
    "import numpy as np\n",
    "import matplotlib.pyplot as plt\n",
    "\n",
    "# data to plot\n",
    "n_groups = 5\n",
    "men_means = (22, 30, 33, 30, 26)\n",
    "women_means = (25, 32, 30, 35, 29)\n",
    "alpha = 0.5\n",
    "# YOUR CODE HERE\n",
    "width = 0.25\n",
    "\n",
    "plt.bar(np.arange(len(men_means)), men_means, width=width, color='green', alpha=alpha, label='Men')\n",
    "plt.bar(np.arange(len(women_means)) + width, women_means, width=width, color='red', alpha=alpha, label='Women')\n",
    "\n",
    "plt.xlabel('Person')\n",
    "plt.ylabel('Scores')\n",
    "plt.xticks([0.125, 1.125, 2.125, 3.125, 4.125], ['G1', 'G2', 'G3', 'G4', 'G5'])\n",
    "plt.title('Scores by person')\n",
    "plt.legend()\n",
    "\n",
    "plt.show()"
   ]
  }
 ],
 "metadata": {
  "language_info": {
   "name": "python"
  }
 },
 "nbformat": 4,
 "nbformat_minor": 0
}
