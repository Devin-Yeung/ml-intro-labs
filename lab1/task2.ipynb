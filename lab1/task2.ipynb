{
 "cells": [
  {
   "cell_type": "code",
   "execution_count": null,
   "metadata": {},
   "outputs": [],
   "source": [
    "# You should return your result.\n",
    "import numpy as np\n",
    "def mergeArrays(a,b):\n",
    "    arr = list(set(a).union(set(b)))\n",
    "    return np.array(sorted(arr))"
   ]
  },
  {
   "cell_type": "code",
   "execution_count": null,
   "metadata": {},
   "outputs": [],
   "source": [
    "# Test cases\n",
    "assert np.array_equal(mergeArrays(np.array([1,1,4,8,1]), np.array([2, 3])),\n",
    "                      np.array([1, 2, 3, 4, 8]))\n",
    "assert np.array_equal(mergeArrays(np.array([-5,-10,-10,-6]), np.array([-5, 8, -10, -12,\n",
    "                                                                       -6])),np.array([-12, -10, -6, -5, 8]) )\n",
    "assert np.array_equal(mergeArrays(np.array([1,1,6,8,1]), np.array([2, 3])),\n",
    "                      np.array([1, 2, 3, 6, 8]))"
   ]
  }
 ],
 "metadata": {
  "language_info": {
   "name": "python"
  }
 },
 "nbformat": 4,
 "nbformat_minor": 0
}
