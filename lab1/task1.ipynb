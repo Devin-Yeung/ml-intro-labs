{
 "cells": [
  {
   "cell_type": "code",
   "execution_count": null,
   "metadata": {},
   "outputs": [],
   "source": [
    "# You should return your result.\n",
    "import numpy as np\n",
    "\n",
    "\n",
    "def insertSecond(a, b):\n",
    "    return np.insert(a, 1, b)\n"
   ]
  },
  {
   "cell_type": "code",
   "execution_count": null,
   "metadata": {},
   "outputs": [],
   "source": [
    "# Test cases\n",
    "assert np.array_equal(insertSecond(np.array([-5, -10, -12, -6]), 5), np.array([-5, 5, -10,\n",
    "                                                                               -12, -6]))\n",
    "assert np.array_equal(insertSecond(np.array([1, 2, 3]), 7), np.array([1, 7, 2, 3]))\n",
    "assert np.array_equal(insertSecond(np.array([-5, -10, -12, -6]), 8), np.array([-5, 8, -10,\n",
    "                                                                               -12, -6]))\n",
    "assert np.array_equal(insertSecond(np.array([1, 2, 3]), 12), np.array([1, 12, 2, 3]))"
   ]
  }
 ],
 "metadata": {
  "language_info": {
   "name": "python"
  }
 },
 "nbformat": 4,
 "nbformat_minor": 0
}
