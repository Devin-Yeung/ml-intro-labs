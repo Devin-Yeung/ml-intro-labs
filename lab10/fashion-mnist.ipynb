{
 "cells": [
  {
   "cell_type": "markdown",
   "id": "0db5b089",
   "metadata": {},
   "source": [
    "# TensorFlow for Deep Learning - Introduction"
   ]
  },
  {
   "cell_type": "markdown",
   "id": "db62b992",
   "metadata": {},
   "source": [
    "## 从线性回归到深度网络\n",
    "\n",
    "到目前为止，我们只谈论了线性模型。\n",
    "尽管神经网络涵盖了更多更为丰富的模型，我们依然可以用描述神经网络的方式来描述线性模型，\n",
    "从而把线性模型看作一个神经网络。\n",
    "首先，我们用“层”符号来重写这个模型。\n",
    "\n",
    "### 神经网络图\n",
    "\n",
    "深度学习从业者喜欢绘制图表来可视化模型中正在发生的事情。\n",
    "在 :numref:`fig_single_neuron`中，我们将线性回归模型描述为一个神经网络。\n",
    "需要注意的是，该图只显示连接模式，即只显示每个输入如何连接到输出，隐去了权重和偏置的值。\n",
    "\n",
    "![线性回归是一个单层神经网络。](https://img-blog.csdnimg.cn/8d821d476ed7442ba2cb37f1f4b64a1a.jpg?x-oss-process=image/watermark,type_ZHJvaWRzYW5zZmFsbGJhY2s,shadow_50,text_Q1NETiBA5bCR5ZCD6Zu26aOf5aSa552h6KeJ77yM5Yir5ou_5LiK6K--5byA546p56yR,size_5,color_FFFFFF,t_70,g_se,x_16)\n",
    ":label:`fig_single_neuron`\n",
    "\n",
    "在 :numref:`fig_single_neuron`所示的神经网络中，输入为$x_1, \\ldots, x_d$，\n",
    "因此输入层中的*输入数*（或称为*特征维度*，feature dimensionality）为$d$。\n",
    "网络的输出为$o_1$，因此输出层中的*输出数*是1。\n",
    "需要注意的是，输入值都是已经给定的，并且只有一个*计算*神经元。\n",
    "由于模型重点在发生计算的地方，所以通常我们在计算层数时不考虑输入层。\n",
    "也就是说， :numref:`fig_single_neuron`中神经网络的*层数*为1。\n",
    "我们可以将线性回归模型视为仅由单个人工神经元组成的神经网络，或称为单层神经网络。\n",
    "\n",
    "对于线性回归，每个输入都与每个输出（在本例中只有一个输出）相连，\n",
    "我们将这种变换（ :numref:`fig_single_neuron`中的输出层）\n",
    "称为*全连接层*（fully-connected layer）或称为*稠密层*（dense layer）。\n",
    "下一章将详细讨论由这些层组成的网络。\n",
    "\n",
    "### 生物学\n",
    "\n",
    "线性回归发明的时间（1795年）早于计算神经科学，所以将线性回归描述为神经网络似乎不合适。\n",
    "当控制学家、神经生物学家沃伦·麦库洛奇和沃尔特·皮茨开始开发人工神经元模型时，\n",
    "他们为什么将线性模型作为一个起点呢？\n",
    "我们来看一张图片 :numref:`fig_Neuron`：\n",
    "这是一张由*树突*（dendrites，输入终端）、\n",
    "*细胞核*（nucleu，CPU）组成的生物神经元图片。\n",
    "*轴突*（axon，输出线）和*轴突端子*（axon terminal，输出端子）\n",
    "通过*突触*（synapse）与其他神经元连接。\n",
    "\n",
    "![真实的神经元。](https://ts1.cn.mm.bing.net/th/id/R-C.93043d49962c231862b7b5a0eeae1f06?rik=5kAkCrtaiyNdgw&riu=http%3a%2f%2fhahack.com%2fimages%2fann1%2fgb1bJ.png&ehk=8XMJW%2byBob%2bq3tpvMJLJ%2bDDqUXWNx2HTMMP6mOhoNiI%3d&risl=&pid=ImgRaw&r=0)\n",
    "\n",
    ":label:`fig_Neuron`\n",
    "\n",
    "生物神经元由细胞体和细胞突起组成，细胞突起是由细胞体延伸出来的细长部分，每个突起又会生出一些细分的触手，这些触手与其他神经元的触手相连接，形成神经网络\n",
    "\n",
    "这些细胞突起又分为树突和轴突，树突是神经元的输入，一个典型的椎体神经元有上千个树突，用来接收其他神经元传递过来的信号。轴突是神经元的输出，\n",
    "\n",
    "树突和轴突之间的连接点称为突触。\n",
    "\n",
    "通过突触，神经元就可以接收其他神经元传递过来的刺激并且发送信号给其他神经元。\n",
    "\n",
    "当神经元处于抑制状态时，轴突并不向外输出信号，当树突中输入的刺激累计达到一定程度（超过一定阈值时），神经元就会从抑制状态转为兴奋状态。同时通过神经元向其他神经元发送信号。\n",
    "\n",
    "受到生物神经系统的启发，科学家们参考生物神经元的结构，提出了人造神经元模型。\n",
    "\n",
    "树突中接收到来自其他神经元（或视网膜等环境传感器）的信息$x_i$。\n",
    "该信息通过*突触权重*$w_i$来加权，以确定输入的影响（即，通过$x_i w_i$相乘来激活或抑制）。\n",
    "来自多个源的加权输入以加权和$y = \\sum_i x_i w_i + b$的形式汇聚在细胞核中，\n",
    "然后将这些信息发送到轴突$y$中进一步处理，通常会通过$\\sigma(y)$进行一些非线性处理。\n",
    "之后，它要么到达目的地（例如肌肉），要么通过树突进入另一个神经元。\n",
    "\n",
    "当然，许多这样的单元可以通过正确连接和正确的学习算法拼凑在一起，\n",
    "从而产生的行为会比单独一个神经元所产生的行为更有趣、更复杂，\n",
    "这种想法归功于我们对真实生物神经系统的研究。"
   ]
  },
  {
   "cell_type": "markdown",
   "id": "d4d9c836",
   "metadata": {},
   "source": [
    "For understanding single layer perceptron, it is important to understand \n",
    "<font color=blue size=3>**Artificial Neural Networks (ANN)**</font>. <u>Artificial neural networks is the information processing system the mechanism of which is inspired with the functionality of biological neural circuits</u>. An artificial neural network possesses many processing units connected to each other. Following is the schematic representation of artificial neural network −\n",
    "\n",
    "![fig1](http://qffc.uic.edu.cn/Public/Uploadfiles/20190806/20190806154326_74816.jpg)\n",
    "\n",
    "**Fig. 1  Deep Learning using ANN - System Architecture**\n",
    "\n",
    "The diagram shows that the hidden units communicate with the external layer. While the input and output units communicate only through the hidden layer of the network.\n",
    "\n",
    "The pattern of connection with nodes, the total number of layers and level of nodes between inputs and outputs with the number of neurons per layer define the architecture of a neural network.\n",
    "\n",
    "There are two types of architecture. These types focus on the functionality artificial neural networks as follows −\n",
    "\n",
    "1. Single Layer Perceptron\n",
    "2. Multi-Layer Perceptron"
   ]
  },
  {
   "cell_type": "markdown",
   "id": "1627e9ac",
   "metadata": {},
   "source": [
    "## Single Layer Perceptron\n",
    "\n",
    "<font color=blue size=3>**Single layer perceptron(SLP)**</font> is the first proposed neural model created. The content of the local memory of the neuron consists of a vector of weights. The computation of a single layer perceptron is performed over the calculation of sum of the input vector each with the value multiplied by corresponding element of vector of the weights. The value which is displayed in the output will be the input of an activation function.\n",
    "\n",
    " ![fig2 ](http://qffc.uic.edu.cn/Public/Uploadfiles/20190806/20190806154457_56571.jpg)\n",
    " \n",
    " **Fig. 2 Single Layer Perceptron (SLP) - System Architecture**\n",
    " \n",
    " Let us focus on the implementation of single layer perceptron for an image classification problem using TensorFlow. The best example to illustrate the single layer perceptron is through representation of “Logistic Regression”.\n",
    " \n",
    " ![fig3](http://qffc.uic.edu.cn/Public/Uploadfiles/20190806/20190806154542_40775.jpg)\n",
    " \n",
    "**Fig. 3 Activation Function using Sigmoid Function**\n",
    "\n",
    "Now, let us consider the following basic steps of training logistic regression −\n",
    "\n",
    "- The weights are initialized with random values at the beginning of the training.\n",
    "\n",
    "- For each element of the training set, the error is calculated with the difference between desired output and the actual output. The error calculated is used to adjust the weights.\n",
    "\n",
    "- The process is repeated until the error made on the entire training set is not less than the specified threshold, until the maximum number of iterations is reached.\n"
   ]
  },
  {
   "cell_type": "markdown",
   "id": "d1cf27b5",
   "metadata": {},
   "source": [
    "## 激活函数\n",
    ":label:`subsec_activation_functions`\n",
    "\n",
    "*激活函数*（activation function）通过计算加权和并加上偏置来确定神经元是否应该被激活，\n",
    "它们将输入信号转换为输出的可微运算。\n",
    "大多数激活函数都是非线性的。\n",
    "由于激活函数是深度学习的基础，下面(**简要介绍一些常见的激活函数**)。"
   ]
  },
  {
   "cell_type": "code",
   "execution_count": null,
   "id": "244b44d8",
   "metadata": {},
   "outputs": [],
   "source": [
    "%matplotlib inline\n",
    "import tensorflow as tf\n",
    "from d2l import tensorflow as d2l"
   ]
  },
  {
   "cell_type": "markdown",
   "id": "7ffcd000",
   "metadata": {},
   "source": [
    "### ReLU函数\n",
    "\n",
    "最受欢迎的激活函数是*修正线性单元*（Rectified linear unit，*ReLU*），\n",
    "因为它实现简单，同时在各种预测任务中表现良好。\n",
    "[**ReLU提供了一种非常简单的非线性变换**]。\n",
    "给定元素$x$，ReLU函数被定义为该元素与$0$的最大值：\n",
    "\n",
    "(**$$\\operatorname{ReLU}(x) = \\max(x, 0).$$**)\n",
    "\n",
    "通俗地说，ReLU函数通过将相应的活性值设为0，仅保留正元素并丢弃所有负元素。\n",
    "为了直观感受一下，我们可以画出函数的曲线图。\n",
    "正如从图中所看到，激活函数是分段线性的。\n"
   ]
  },
  {
   "cell_type": "code",
   "execution_count": null,
   "id": "92516b4a",
   "metadata": {},
   "outputs": [],
   "source": [
    "x = tf.Variable(tf.range(-8.0, 8.0, 0.1), dtype=tf.float32)\n",
    "y = tf.nn.relu(x)\n",
    "d2l.plot(x.numpy(), y.numpy(), 'x', 'relu(x)', figsize=(5, 2.5))"
   ]
  },
  {
   "cell_type": "markdown",
   "id": "a19810d3",
   "metadata": {},
   "source": [
    "当输入为负时，ReLU函数的导数为0，而当输入为正时，ReLU函数的导数为1。\n",
    "注意，当输入值精确等于0时，ReLU函数不可导。\n",
    "在此时，我们默认使用左侧的导数，即当输入为0时导数为0。\n",
    "我们可以忽略这种情况，因为输入可能永远都不会是0。\n",
    "这里引用一句古老的谚语，“如果微妙的边界条件很重要，我们很可能是在研究数学而非工程”，\n",
    "这个观点正好适用于这里。\n",
    "下面我们绘制ReLU函数的导数。"
   ]
  },
  {
   "cell_type": "code",
   "execution_count": null,
   "id": "e9cd5810",
   "metadata": {},
   "outputs": [],
   "source": [
    "with tf.GradientTape() as t:\n",
    "    y = tf.nn.relu(x)\n",
    "d2l.plot(x.numpy(), t.gradient(y, x).numpy(), 'x', 'grad of relu',\n",
    "         figsize=(5, 2.5))"
   ]
  },
  {
   "cell_type": "markdown",
   "id": "5324d83c",
   "metadata": {},
   "source": [
    "使用ReLU的原因是，它求导表现得特别好：要么让参数消失，要么让参数通过。\n",
    "这使得优化表现得更好，并且ReLU减轻了困扰以往神经网络的梯度消失问题（稍后将详细介绍）。\n",
    "\n",
    "注意，ReLU函数有许多变体，包括*参数化ReLU*（Parameterized ReLU，*pReLU*）\n",
    "函数 :cite:`He.Zhang.Ren.ea.2015`。\n",
    "该变体为ReLU添加了一个线性项，因此即使参数是负的，某些信息仍然可以通过：\n",
    "\n",
    "$$\\operatorname{pReLU}(x) = \\max(0, x) + \\alpha \\min(0, x).$$\n",
    "\n",
    "### sigmoid函数\n",
    "\n",
    "[**对于一个定义域在$\\mathbb{R}$中的输入，\n",
    "*sigmoid函数*将输入变换为区间(0, 1)上的输出**]。\n",
    "因此，sigmoid通常称为*挤压函数*（squashing function）：\n",
    "它将范围（-inf, inf）中的任意输入压缩到区间（0, 1）中的某个值：\n",
    "\n",
    "(**$$\\operatorname{sigmoid}(x) = \\frac{1}{1 + \\exp(-x)}.$$**)\n",
    "\n",
    "在最早的神经网络中，科学家们感兴趣的是对“激发”或“不激发”的生物神经元进行建模。\n",
    "因此，这一领域的先驱可以一直追溯到人工神经元的发明者麦卡洛克和皮茨，他们专注于阈值单元。\n",
    "阈值单元在其输入低于某个阈值时取值0，当输入超过阈值时取值1。\n",
    "\n",
    "当人们逐渐关注到到基于梯度的学习时，\n",
    "sigmoid函数是一个自然的选择，因为它是一个平滑的、可微的阈值单元近似。\n",
    "当我们想要将输出视作二元分类问题的概率时，\n",
    "sigmoid仍然被广泛用作输出单元上的激活函数\n",
    "（你可以将sigmoid视为softmax的特例）。\n",
    "然而，sigmoid在隐藏层中已经较少使用，\n",
    "它在大部分时候被更简单、更容易训练的ReLU所取代。\n",
    "在后面关于循环神经网络的章节中，我们将描述利用sigmoid单元来控制时序信息流的架构。\n",
    "\n",
    "下面，我们绘制sigmoid函数。\n",
    "注意，当输入接近0时，sigmoid函数接近线性变换。\n"
   ]
  },
  {
   "cell_type": "code",
   "execution_count": null,
   "id": "dae85cb6",
   "metadata": {},
   "outputs": [],
   "source": [
    "y = tf.nn.sigmoid(x)\n",
    "d2l.plot(x.numpy(), y.numpy(), 'x', 'sigmoid(x)', figsize=(5, 2.5))"
   ]
  },
  {
   "cell_type": "markdown",
   "id": "8f88ed94",
   "metadata": {},
   "source": [
    "sigmoid函数的导数为下面的公式：\n",
    "\n",
    "$$\\frac{d}{dx} \\operatorname{sigmoid}(x) = \\frac{\\exp(-x)}{(1 + \\exp(-x))^2} = \\operatorname{sigmoid}(x)\\left(1-\\operatorname{sigmoid}(x)\\right).$$\n",
    "\n",
    "sigmoid函数的导数图像如下所示。\n",
    "注意，当输入为0时，sigmoid函数的导数达到最大值0.25；\n",
    "而输入在任一方向上越远离0点时，导数越接近0。"
   ]
  },
  {
   "cell_type": "code",
   "execution_count": null,
   "id": "1370a2d5",
   "metadata": {},
   "outputs": [],
   "source": [
    "with tf.GradientTape() as t:\n",
    "    y = tf.nn.sigmoid(x)\n",
    "d2l.plot(x.numpy(), t.gradient(y, x).numpy(), 'x', 'grad of sigmoid',\n",
    "         figsize=(5, 2.5))"
   ]
  },
  {
   "cell_type": "markdown",
   "id": "fd051607",
   "metadata": {},
   "source": [
    "### tanh函数\n",
    "\n",
    "与sigmoid函数类似，\n",
    "[**tanh(双曲正切)函数也能将其输入压缩转换到区间(-1, 1)上**]。\n",
    "tanh函数的公式如下：\n",
    "\n",
    "(**$$\\operatorname{tanh}(x) = \\frac{1 - \\exp(-2x)}{1 + \\exp(-2x)}.$$**)\n",
    "\n",
    "下面我们绘制tanh函数。\n",
    "注意，当输入在0附近时，tanh函数接近线性变换。\n",
    "函数的形状类似于sigmoid函数，\n",
    "不同的是tanh函数关于坐标系原点中心对称。"
   ]
  },
  {
   "cell_type": "markdown",
   "id": "a5fc16ac",
   "metadata": {},
   "source": [
    "# 图像分类数据集\n",
    ":label:`sec_fashion_mnist`\n",
    "\n",
    "(**MNIST数据集**) :cite:`LeCun.Bottou.Bengio.ea.1998`\n",
    "(**是图像分类中广泛使用的数据集之一，但作为基准数据集过于简单。\n",
    "我们将使用类似但更复杂的Fashion-MNIST数据集**) :cite:`Xiao.Rasul.Vollgraf.2017`。"
   ]
  },
  {
   "cell_type": "code",
   "execution_count": null,
   "id": "295c72e2",
   "metadata": {},
   "outputs": [],
   "source": [
    "y = tf.nn.tanh(x)\n",
    "d2l.plot(x.numpy(), y.numpy(), 'x', 'tanh(x)', figsize=(5, 2.5))"
   ]
  },
  {
   "cell_type": "markdown",
   "id": "9bbbf98b",
   "metadata": {},
   "source": [
    "tanh函数的导数是：\n",
    "\n",
    "$$\\frac{d}{dx} \\operatorname{tanh}(x) = 1 - \\operatorname{tanh}^2(x).$$\n",
    "\n",
    "tanh函数的导数图像如下所示。\n",
    "当输入接近0时，tanh函数的导数接近最大值1。\n",
    "与我们在sigmoid函数图像中看到的类似，\n",
    "输入在任一方向上越远离0点，导数越接近0。"
   ]
  },
  {
   "cell_type": "code",
   "execution_count": null,
   "id": "f3c5ae35",
   "metadata": {},
   "outputs": [],
   "source": [
    "with tf.GradientTape() as t:\n",
    "    y = tf.nn.tanh(x)\n",
    "d2l.plot(x.numpy(), t.gradient(y, x).numpy(), 'x', 'grad of tanh',\n",
    "         figsize=(5, 2.5))"
   ]
  },
  {
   "cell_type": "code",
   "execution_count": null,
   "id": "49d606ae",
   "metadata": {},
   "outputs": [],
   "source": [
    "%matplotlib inline\n",
    "import tensorflow as tf\n",
    "from d2l import tensorflow as d2l\n",
    "\n",
    "d2l.use_svg_display()"
   ]
  },
  {
   "cell_type": "markdown",
   "id": "95d35108",
   "metadata": {},
   "source": [
    "## TensorFlow\n",
    "\n",
    "<font color=blue size=3>**TensorFlow**</font>  is an open source software library created by Google for numerical computation using data flow graphs.\n",
    "![fig4](http://qffc.uic.edu.cn/Public/Uploadfiles/20190810/20190810170340_90362.jpeg)\n",
    "\n",
    "Nodes in the graph represent mathematical operations, while the graph edges represent the multidimensional data arrays (tensors) that flow between them. This flexible architecture lets you deploy computation to one or more CPU's or GPU’s in a desktop, server, or mobile device without rewriting code.\n",
    "\n",
    "TensorFlow also includes TensorBoard, a data visualization toolkit."
   ]
  },
  {
   "cell_type": "markdown",
   "id": "391013b8",
   "metadata": {},
   "source": [
    "## 读取数据集\n",
    "\n",
    "我们可以[**通过框架中的内置函数将Fashion-MNIST数据集下载并读取到内存中**]。"
   ]
  },
  {
   "cell_type": "code",
   "execution_count": null,
   "id": "1d25ecc8",
   "metadata": {},
   "outputs": [],
   "source": [
    "mnist_train, mnist_test = tf.keras.datasets.fashion_mnist.load_data()"
   ]
  },
  {
   "cell_type": "markdown",
   "id": "b9c1977d",
   "metadata": {},
   "source": [
    "Fashion-MNIST由10个类别的图像组成， 每个类别由训练数据集（train dataset）中的6000张图像 和测试数据集（test dataset）中的1000张图像组成。 因此，训练集和测试集分别包含60000和10000张图像。 测试数据集不会用于训练，只用于评估模型性能。"
   ]
  },
  {
   "cell_type": "code",
   "execution_count": null,
   "id": "b256b4f3",
   "metadata": {},
   "outputs": [],
   "source": [
    "len(mnist_train[0]), len(mnist_test[0])"
   ]
  },
  {
   "cell_type": "markdown",
   "id": "4dba4c55",
   "metadata": {},
   "source": [
    "每个输入图像的高度和宽度均为28像素。 数据集由灰度图像组成，其通道数为1。 为了简洁起见，本书将高度 ℎ 像素、宽度 𝑤 像素图像的形状记为 ℎ×𝑤 或（ ℎ , 𝑤 ）。"
   ]
  },
  {
   "cell_type": "code",
   "execution_count": null,
   "id": "a74243d9",
   "metadata": {},
   "outputs": [],
   "source": [
    "mnist_train[0][0].shape"
   ]
  },
  {
   "cell_type": "markdown",
   "id": "92366e73",
   "metadata": {},
   "source": [
    "Fashion-MNIST中包含的10个类别，分别为t-shirt（T恤）、trouser（裤子）、pullover（套衫）、dress（连衣裙）、coat（外套）、sandal（凉鞋）、shirt（衬衫）、sneaker（运动鞋）、bag（包）和ankle boot（短靴）。 以下函数用于在数字标签索引及其文本名称之间进行转换。"
   ]
  },
  {
   "cell_type": "code",
   "execution_count": null,
   "id": "d0359e0d",
   "metadata": {},
   "outputs": [],
   "source": [
    "def get_fashion_mnist_labels(labels):  #@save\n",
    "    \"\"\"返回Fashion-MNIST数据集的文本标签\"\"\"\n",
    "    text_labels = ['t-shirt', 'trouser', 'pullover', 'dress', 'coat',\n",
    "                   'sandal', 'shirt', 'sneaker', 'bag', 'ankle boot']\n",
    "    return [text_labels[int(i)] for i in labels]"
   ]
  },
  {
   "cell_type": "markdown",
   "id": "63290782",
   "metadata": {},
   "source": [
    "我们现在可以创建一个函数来可视化这些样本。"
   ]
  },
  {
   "cell_type": "code",
   "execution_count": null,
   "id": "b78855ca",
   "metadata": {},
   "outputs": [],
   "source": [
    "def show_images(imgs, num_rows, num_cols, titles=None, scale=1.5):  #@save\n",
    "    \"\"\"绘制图像列表\"\"\"\n",
    "    figsize = (num_cols * scale, num_rows * scale)\n",
    "    _, axes = d2l.plt.subplots(num_rows, num_cols, figsize=figsize)\n",
    "    axes = axes.flatten()\n",
    "    for i, (ax, img) in enumerate(zip(axes, imgs)):\n",
    "        ax.imshow(img.numpy())\n",
    "        ax.axes.get_xaxis().set_visible(False)\n",
    "        ax.axes.get_yaxis().set_visible(False)\n",
    "        if titles:\n",
    "            ax.set_title(titles[i])\n",
    "    return axes"
   ]
  },
  {
   "cell_type": "markdown",
   "id": "82e75438",
   "metadata": {},
   "source": [
    "以下是训练数据集中前[**几个样本的图像及其相应的标签**]。"
   ]
  },
  {
   "cell_type": "code",
   "execution_count": null,
   "id": "032ac6bf",
   "metadata": {},
   "outputs": [],
   "source": [
    "X = tf.constant(mnist_train[0][:18])\n",
    "y = tf.constant(mnist_train[1][:18])\n",
    "show_images(X, 2, 9, titles=get_fashion_mnist_labels(y));"
   ]
  },
  {
   "cell_type": "markdown",
   "id": "7a375583",
   "metadata": {},
   "source": [
    "## 读取小批量\n",
    "\n",
    "为了使我们在读取训练集和测试集时更容易，我们使用内置的数据迭代器，而不是从零开始创建。\n",
    "回顾一下，在每次迭代中，数据加载器每次都会[**读取一小批量数据，大小为`batch_size`**]。\n",
    "通过内置数据迭代器，我们可以随机打乱了所有样本，从而无偏见地读取小批量。"
   ]
  },
  {
   "cell_type": "code",
   "execution_count": null,
   "id": "f12d554b",
   "metadata": {},
   "outputs": [],
   "source": [
    "batch_size = 256\n",
    "train_iter = tf.data.Dataset.from_tensor_slices(\n",
    "    mnist_train).batch(batch_size).shuffle(len(mnist_train[0]))"
   ]
  },
  {
   "cell_type": "markdown",
   "id": "43393945",
   "metadata": {},
   "source": [
    "## 整合所有组件\n",
    "\n",
    "现在我们[**定义`load_data_fashion_mnist`函数**]，用于获取和读取Fashion-MNIST数据集。\n",
    "这个函数返回训练集和验证集的数据迭代器。\n",
    "此外，这个函数还接受一个可选参数`resize`，用来将图像大小调整为另一种形状。"
   ]
  },
  {
   "cell_type": "code",
   "execution_count": null,
   "id": "43e902c0",
   "metadata": {},
   "outputs": [],
   "source": [
    "def load_data_fashion_mnist(batch_size, resize=None):   #@save\n",
    "    \"\"\"下载Fashion-MNIST数据集，然后将其加载到内存中\"\"\"\n",
    "    mnist_train, mnist_test = tf.keras.datasets.fashion_mnist.load_data()\n",
    "    # 将所有数字除以255，使所有像素值介于0和1之间，在最后添加一个批处理维度，\n",
    "    # 并将标签转换为int32。\n",
    "    process = lambda X, y: (tf.expand_dims(X, axis=3) / 255,\n",
    "                            tf.cast(y, dtype='int32'))\n",
    "    resize_fn = lambda X, y: (\n",
    "        tf.image.resize_with_pad(X, resize, resize) if resize else X, y)\n",
    "    return (\n",
    "        tf.data.Dataset.from_tensor_slices(process(*mnist_train)).batch(\n",
    "            batch_size).shuffle(len(mnist_train[0])).map(resize_fn),\n",
    "        tf.data.Dataset.from_tensor_slices(process(*mnist_test)).batch(\n",
    "            batch_size).map(resize_fn))"
   ]
  },
  {
   "cell_type": "markdown",
   "id": "7ba1c3e3",
   "metadata": {},
   "source": [
    "下面，我们通过指定`resize`参数来测试`load_data_fashion_mnist`函数的图像大小调整功能。"
   ]
  },
  {
   "cell_type": "code",
   "execution_count": null,
   "id": "b2514584",
   "metadata": {},
   "outputs": [],
   "source": [
    "train_iter, test_iter = load_data_fashion_mnist(32, resize=64)\n",
    "for X, y in train_iter:\n",
    "    print(X.shape, X.dtype, y.shape, y.dtype)\n",
    "    break"
   ]
  },
  {
   "cell_type": "markdown",
   "id": "828ff8d9",
   "metadata": {},
   "source": [
    "我们现在已经准备好使用Fashion-MNIST数据集，便于下面的章节调用来评估各种分类算法。"
   ]
  },
  {
   "cell_type": "markdown",
   "id": "af2aff4c",
   "metadata": {},
   "source": [
    "# softmax单层神经网络的简洁实现\n",
    ":label:`sec_softmax_concise`\n",
    "\n",
    "在 :numref:`sec_linear_concise`中，\n",
    "我们发现(**通过深度学习框架的高级API能够使实现**)\n",
    "\n",
    "线性(**回归变得更加容易**)。\n",
    "同样，通过深度学习框架的高级API也能更方便地实现softmax回归模型。\n",
    "本节如在 :numref:`sec_softmax_scratch`中一样，\n",
    "继续使用Fashion-MNIST数据集，并保持批量大小为256。"
   ]
  },
  {
   "cell_type": "code",
   "execution_count": null,
   "id": "fae8a02e",
   "metadata": {},
   "outputs": [],
   "source": [
    "batch_size = 256\n",
    "train_iter, test_iter = d2l.load_data_fashion_mnist(batch_size)"
   ]
  },
  {
   "cell_type": "markdown",
   "id": "78186430",
   "metadata": {},
   "source": [
    "## 初始化模型参数\n",
    "\n",
    "如我们在 :numref:`sec_softmax`所述，\n",
    "[**softmax回归的输出层是一个全连接层**]。\n",
    "因此，为了实现我们的模型，\n",
    "我们只需在`Sequential`中添加一个带有10个输出的softmax激活函数全连接层。\n",
    "同样，在这里`Sequential`并不是必要的，\n",
    "但它是实现深度模型的基础。\n",
    "我们仍然以均值0和标准差0.01随机初始化权重。"
   ]
  },
  {
   "cell_type": "code",
   "execution_count": null,
   "id": "a9eaf976",
   "metadata": {},
   "outputs": [],
   "source": [
    "net = tf.keras.models.Sequential()\n",
    "net.add(tf.keras.layers.Flatten(input_shape=(28, 28)))\n",
    "weight_initializer = tf.keras.initializers.RandomNormal(mean=0.0, stddev=0.01)\n",
    "net.add(tf.keras.layers.Dense(10, kernel_initializer=weight_initializer, activation='softmax'))"
   ]
  },
  {
   "cell_type": "markdown",
   "id": "75c1ed19",
   "metadata": {},
   "source": [
    "## 定义损失函数"
   ]
  },
  {
   "cell_type": "code",
   "execution_count": null,
   "id": "065d81d2",
   "metadata": {},
   "outputs": [],
   "source": [
    "loss = tf.keras.losses.SparseCategoricalCrossentropy(from_logits=True)"
   ]
  },
  {
   "cell_type": "markdown",
   "id": "6cc2b81d",
   "metadata": {},
   "source": [
    "## 优化算法\n",
    "\n",
    "在这里，我们(**使用学习率为0.1的小批量随机梯度下降作为优化算法**)。\n",
    "这与我们在线性回归例子中的相同，这说明了优化器的普适性。"
   ]
  },
  {
   "cell_type": "code",
   "execution_count": null,
   "id": "36c9095b",
   "metadata": {},
   "outputs": [],
   "source": [
    "trainer = tf.keras.optimizers.SGD(learning_rate=.1)"
   ]
  },
  {
   "cell_type": "markdown",
   "id": "eab823e6",
   "metadata": {},
   "source": [
    "## 训练\n",
    "\n",
    "接下来我们[**调用**] :numref:`sec_softmax_scratch`中(~~之前~~)\n",
    "(**定义的训练函数来训练模型**)。"
   ]
  },
  {
   "cell_type": "code",
   "execution_count": null,
   "id": "48005d24",
   "metadata": {},
   "outputs": [],
   "source": [
    "num_epochs = 10\n",
    "d2l.train_ch3(net, train_iter, test_iter, loss, num_epochs, trainer)"
   ]
  },
  {
   "cell_type": "markdown",
   "id": "cbf949a7",
   "metadata": {},
   "source": [
    "和以前一样，这个算法使结果收敛到一个相当高的精度，而且这次的代码比之前更精简了。"
   ]
  },
  {
   "cell_type": "markdown",
   "id": "5d081958",
   "metadata": {},
   "source": [
    "## Multilayer Preceptron - Introduction\n",
    "\n",
    "<font color=blue size=3>**Multi-Layer perceptron(MLP)**</font>  defines the most complicated architecture of artificial neural networks. It is substantially formed from multiple layers of perceptron.\n",
    "\n",
    "The diagrammatic representation of multi-layer perceptron learning is as shown below −\n",
    "![FIG1](http://qffc.uic.edu.cn/Public/Uploadfiles/20190806/20190806155711_68348.jpg)\n",
    "\n",
    "**Fig. 1 MLP System Architecture**\n",
    "\n",
    "MLP networks are usually used for supervised learning format. A typical learning algorithm for MLP networks is also called back propagation’s algorithm.\n",
    "\n",
    "Now, we will focus on the implementation with MLP for an image classification problem."
   ]
  },
  {
   "attachments": {
    "image.png": {
     "image/png": "[encoded data removed]"
    }
   },
   "cell_type": "markdown",
   "id": "151e1c56",
   "metadata": {},
   "source": [
    "## 隐藏层\n",
    "\n",
    "我们在 :numref:`subsec_linear_model`中描述了仿射变换，\n",
    "它是一种带有偏置项的线性变换。\n",
    "首先，回想一下如 :numref:`fig_softmaxreg`中所示的softmax回归的模型架构。\n",
    "该模型通过单个仿射变换将我们的输入直接映射到输出，然后进行softmax操作。\n",
    "如果我们的标签通过仿射变换后确实与我们的输入数据相关，那么这种方法确实足够了。\n",
    "但是，仿射变换中的*线性*是一个很强的假设。\n",
    "\n",
    "### 线性模型可能会出错\n",
    "\n",
    "例如，线性意味着*单调*假设：\n",
    "任何特征的增大都会导致模型输出的增大（如果对应的权重为正），\n",
    "或者导致模型输出的减小（如果对应的权重为负）。\n",
    "有时这是有道理的。\n",
    "例如，如果我们试图预测一个人是否会偿还贷款。\n",
    "我们可以认为，在其他条件不变的情况下，\n",
    "收入较高的申请人比收入较低的申请人更有可能偿还贷款。\n",
    "但是，虽然收入与还款概率存在单调性，但它们不是线性相关的。\n",
    "收入从0增加到5万，可能比从100万增加到105万带来更大的还款可能性。\n",
    "处理这一问题的一种方法是对我们的数据进行预处理，\n",
    "使线性变得更合理，如使用收入的对数作为我们的特征。\n",
    "\n",
    "然而我们可以很容易找出违反单调性的例子。\n",
    "例如，我们想要根据体温预测死亡率。\n",
    "对于体温高于37摄氏度的人来说，温度越高风险越大。\n",
    "然而，对于体温低于37摄氏度的人来说，温度越高风险就越低。\n",
    "在这种情况下，我们也可以通过一些巧妙的预处理来解决问题。\n",
    "例如，我们可以使用与37摄氏度的距离作为特征。\n",
    "\n",
    "但是，如何对猫和狗的图像进行分类呢？\n",
    "增加位置$(13, 17)$处像素的强度是否总是增加（或降低）图像描绘狗的似然？\n",
    "对线性模型的依赖对应于一个隐含的假设，\n",
    "即区分猫和狗的唯一要求是评估单个像素的强度。\n",
    "在一个倒置图像后依然保留类别的世界里，这种方法注定会失败。\n",
    "\n",
    "与我们前面的例子相比，这里的线性很荒谬，\n",
    "而且我们难以通过简单的预处理来解决这个问题。\n",
    "这是因为任何像素的重要性都以复杂的方式取决于该像素的上下文（周围像素的值）。\n",
    "我们的数据可能会有一种表示，这种表示会考虑到我们在特征之间的相关交互作用。\n",
    "在此表示的基础上建立一个线性模型可能会是合适的，\n",
    "但我们不知道如何手动计算这么一种表示。\n",
    "对于深度神经网络，我们使用观测数据来联合学习隐藏层表示和应用于该表示的线性预测器。\n",
    "\n",
    "### 在网络中加入隐藏层\n",
    "\n",
    "我们可以通过在网络中加入一个或多个隐藏层来克服线性模型的限制，\n",
    "使其能处理更普遍的函数关系类型。\n",
    "要做到这一点，最简单的方法是将许多全连接层堆叠在一起。\n",
    "每一层都输出到上面的层，直到生成最后的输出。\n",
    "我们可以把前$L-1$层看作表示，把最后一层看作线性预测器。\n",
    "这种架构通常称为*多层感知机*（multilayer perceptron），通常缩写为*MLP*。\n",
    "下面，我们以图的方式描述了多层感知机（ :numref:`fig_mlp`）。\n",
    "\n",
    "![image.png](attachment:image.png)\n",
    ":label:`fig_mlp`\n",
    "\n"
   ]
  },
  {
   "cell_type": "markdown",
   "id": "507d084c",
   "metadata": {},
   "source": [
    "这个多层感知机有4个输入，3个输出，其隐藏层包含5个隐藏单元。\n",
    "输入层不涉及任何计算，因此使用此网络产生输出只需要实现隐藏层和输出层的计算。\n",
    "因此，这个多层感知机中的层数为2。\n",
    "注意，这两个层都是全连接的。\n",
    "每个输入都会影响隐藏层中的每个神经元，\n",
    "而隐藏层中的每个神经元又会影响输出层中的每个神经元。\n",
    "\n",
    "然而，正如 :numref:`subsec_parameterization-cost-fc-layers`所说，\n",
    "具有全连接层的多层感知机的参数开销可能会高得令人望而却步。\n",
    "即使在不改变输入或输出大小的情况下，\n",
    "可能在参数节约和模型有效性之间进行权衡 :cite:`Zhang.Tay.Zhang.ea.2021`。"
   ]
  }
 ],
 "metadata": {
  "language_info": {
   "name": "python"
  }
 },
 "nbformat": 4,
 "nbformat_minor": 5
}
