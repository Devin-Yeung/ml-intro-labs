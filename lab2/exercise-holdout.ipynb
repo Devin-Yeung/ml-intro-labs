{
 "cells": [
  {
   "cell_type": "code",
   "execution_count": null,
   "metadata": {},
   "outputs": [],
   "source": [
    "import pandas as pd\n",
    "from sklearn.model_selection import train_test_split"
   ]
  },
  {
   "cell_type": "code",
   "execution_count": null,
   "metadata": {},
   "outputs": [],
   "source": [
    "df = pd.read_csv(\"2.1-Exercise.csv\")\n",
    "df"
   ]
  },
  {
   "cell_type": "code",
   "execution_count": null,
   "metadata": {},
   "outputs": [],
   "source": [
    "TRAIN_SPLIT = 0.7"
   ]
  },
  {
   "cell_type": "code",
   "execution_count": null,
   "metadata": {},
   "outputs": [],
   "source": [
    "x_train, x_test, y_train, y_test = train_test_split(\n",
    "    df[['Open', 'High', 'Low', 'Close', 'Volume']], df['Target'], train_size=TRAIN_SPLIT, test_size=1 - TRAIN_SPLIT)"
   ]
  },
  {
   "cell_type": "code",
   "execution_count": null,
   "metadata": {},
   "outputs": [],
   "source": [
    "print(\"Total diabetes data points: {}\".format(df.shape[0]))\n",
    "print(\"# of training data points: {} (~{}%)\".format(len(x_train), TRAIN_SPLIT * 100))\n",
    "print(\"# of test data points: {} (~{}%)\\n\".format(len(x_test), (1 - TRAIN_SPLIT) * 100))"
   ]
  },
  {
   "cell_type": "code",
   "execution_count": null,
   "metadata": {},
   "outputs": [],
   "source": [
    "print(f'X Train:\\n {x_train}')\n",
    "print(f'X Test:\\n {x_test}')\n",
    "print(f'X Train:\\n {y_train}')\n",
    "print(f'Y Test:\\n {y_test}')"
   ]
  }
 ],
 "metadata": {
  "language_info": {
   "name": "python"
  }
 },
 "nbformat": 4,
 "nbformat_minor": 0
}
